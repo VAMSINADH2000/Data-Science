{
 "cells": [
  {
   "cell_type": "code",
   "execution_count": 67,
   "metadata": {},
   "outputs": [],
   "source": [
    "import pandas as pd\n",
    "import numpy as np\n",
    "import tensorflow as tf"
   ]
  },
  {
   "cell_type": "code",
   "execution_count": 68,
   "metadata": {},
   "outputs": [],
   "source": [
    "df = pd.read_excel('Folds5x2_pp.xlsx')"
   ]
  },
  {
   "cell_type": "code",
   "execution_count": 69,
   "metadata": {},
   "outputs": [
    {
     "data": {
      "text/html": [
       "<div>\n",
       "<style scoped>\n",
       "    .dataframe tbody tr th:only-of-type {\n",
       "        vertical-align: middle;\n",
       "    }\n",
       "\n",
       "    .dataframe tbody tr th {\n",
       "        vertical-align: top;\n",
       "    }\n",
       "\n",
       "    .dataframe thead th {\n",
       "        text-align: right;\n",
       "    }\n",
       "</style>\n",
       "<table border=\"1\" class=\"dataframe\">\n",
       "  <thead>\n",
       "    <tr style=\"text-align: right;\">\n",
       "      <th></th>\n",
       "      <th>AT</th>\n",
       "      <th>V</th>\n",
       "      <th>AP</th>\n",
       "      <th>RH</th>\n",
       "      <th>PE</th>\n",
       "    </tr>\n",
       "  </thead>\n",
       "  <tbody>\n",
       "    <tr>\n",
       "      <td>0</td>\n",
       "      <td>14.96</td>\n",
       "      <td>41.76</td>\n",
       "      <td>1024.07</td>\n",
       "      <td>73.17</td>\n",
       "      <td>463.26</td>\n",
       "    </tr>\n",
       "    <tr>\n",
       "      <td>1</td>\n",
       "      <td>25.18</td>\n",
       "      <td>62.96</td>\n",
       "      <td>1020.04</td>\n",
       "      <td>59.08</td>\n",
       "      <td>444.37</td>\n",
       "    </tr>\n",
       "    <tr>\n",
       "      <td>2</td>\n",
       "      <td>5.11</td>\n",
       "      <td>39.40</td>\n",
       "      <td>1012.16</td>\n",
       "      <td>92.14</td>\n",
       "      <td>488.56</td>\n",
       "    </tr>\n",
       "    <tr>\n",
       "      <td>3</td>\n",
       "      <td>20.86</td>\n",
       "      <td>57.32</td>\n",
       "      <td>1010.24</td>\n",
       "      <td>76.64</td>\n",
       "      <td>446.48</td>\n",
       "    </tr>\n",
       "    <tr>\n",
       "      <td>4</td>\n",
       "      <td>10.82</td>\n",
       "      <td>37.50</td>\n",
       "      <td>1009.23</td>\n",
       "      <td>96.62</td>\n",
       "      <td>473.90</td>\n",
       "    </tr>\n",
       "  </tbody>\n",
       "</table>\n",
       "</div>"
      ],
      "text/plain": [
       "      AT      V       AP     RH      PE\n",
       "0  14.96  41.76  1024.07  73.17  463.26\n",
       "1  25.18  62.96  1020.04  59.08  444.37\n",
       "2   5.11  39.40  1012.16  92.14  488.56\n",
       "3  20.86  57.32  1010.24  76.64  446.48\n",
       "4  10.82  37.50  1009.23  96.62  473.90"
      ]
     },
     "execution_count": 69,
     "metadata": {},
     "output_type": "execute_result"
    }
   ],
   "source": [
    "df.head()"
   ]
  },
  {
   "cell_type": "markdown",
   "metadata": {},
   "source": [
    "Attribute Information:\n",
    "\n",
    "Features consist of hourly average ambient variables\n",
    "- Temperature (T) in the range 1.81°C and 37.11°C,\n",
    "- Ambient Pressure (AP) in the range 992.89-1033.30 milibar,\n",
    "- Relative Humidity (RH) in the range 25.56% to 100.16%\n",
    "- Exhaust Vacuum (V) in teh range 25.36-81.56 cm Hg\n",
    "- Net hourly electrical energy output (EP) 420.26-495.76 MW\n",
    "The averages are taken from various sensors located around the plant that record the ambient variables every second. The variables are given without normalization."
   ]
  },
  {
   "cell_type": "code",
   "execution_count": 70,
   "metadata": {},
   "outputs": [],
   "source": [
    "x = df.iloc[:,:-1].values\n",
    "y = df.iloc[:,-1].values\n"
   ]
  },
  {
   "cell_type": "code",
   "execution_count": 71,
   "metadata": {},
   "outputs": [
    {
     "data": {
      "text/plain": [
       "(array([[  14.96,   41.76, 1024.07,   73.17],\n",
       "        [  25.18,   62.96, 1020.04,   59.08],\n",
       "        [   5.11,   39.4 , 1012.16,   92.14],\n",
       "        ...,\n",
       "        [  31.32,   74.33, 1012.92,   36.48],\n",
       "        [  24.48,   69.45, 1013.86,   62.39],\n",
       "        [  21.6 ,   62.52, 1017.23,   67.87]]),\n",
       " array([463.26, 444.37, 488.56, ..., 429.57, 435.74, 453.28]))"
      ]
     },
     "execution_count": 71,
     "metadata": {},
     "output_type": "execute_result"
    }
   ],
   "source": [
    "x,y"
   ]
  },
  {
   "cell_type": "code",
   "execution_count": 95,
   "metadata": {},
   "outputs": [],
   "source": [
    "from sklearn.model_selection import train_test_split\n",
    "X_train,X_test,y_train,y_test = train_test_split(x,y,test_size=0.2,random_state=0)"
   ]
  },
  {
   "cell_type": "markdown",
   "metadata": {},
   "source": [
    "## Building ANN"
   ]
  },
  {
   "cell_type": "code",
   "execution_count": 73,
   "metadata": {},
   "outputs": [],
   "source": [
    "## Intializing ANN\n",
    "ann = tf.keras.models.Sequential()"
   ]
  },
  {
   "cell_type": "code",
   "execution_count": 74,
   "metadata": {},
   "outputs": [],
   "source": [
    "## Adding Input Layer and Hidden Layer\n",
    "ann.add(tf.keras.layers.Dense(units = 6,activation = 'relu'))\n",
    "# Units = No of Hidden Neurons\n",
    "# We don't need to specifify no of input neurons they are automatically detected by Tensorflow\n"
   ]
  },
  {
   "cell_type": "code",
   "execution_count": 75,
   "metadata": {},
   "outputs": [],
   "source": [
    "## Adding Second Hidden Layer\n",
    "ann.add(tf.keras.layers.Dense(units = 6,activation = 'relu'))\n"
   ]
  },
  {
   "cell_type": "code",
   "execution_count": 76,
   "metadata": {},
   "outputs": [],
   "source": [
    "# Adding Output Layer\n",
    "ann.add(tf.keras.layers.Dense(units = 1))\n"
   ]
  },
  {
   "cell_type": "markdown",
   "metadata": {},
   "source": [
    "## Training ANN"
   ]
  },
  {
   "cell_type": "code",
   "execution_count": 77,
   "metadata": {},
   "outputs": [],
   "source": [
    " ann.compile(\n",
    " optimizer = 'adam', \n",
    " loss = 'mean_squared_error'\n",
    " \n",
    " )"
   ]
  },
  {
   "cell_type": "code",
   "execution_count": 78,
   "metadata": {},
   "outputs": [
    {
     "name": "stdout",
     "output_type": "stream",
     "text": [
      "Train on 7654 samples\n",
      "Epoch 1/50\n",
      "7654/7654 [==============================] - 1s 141us/sample - loss: 30873.8823\n",
      "Epoch 2/50\n",
      "7654/7654 [==============================] - 0s 60us/sample - loss: 454.2989\n",
      "Epoch 3/50\n",
      "7654/7654 [==============================] - 0s 58us/sample - loss: 442.6651\n",
      "Epoch 4/50\n",
      "7654/7654 [==============================] - 0s 58us/sample - loss: 428.8586\n",
      "Epoch 5/50\n",
      "7654/7654 [==============================] - 0s 58us/sample - loss: 413.2626\n",
      "Epoch 6/50\n",
      "7654/7654 [==============================] - 0s 60us/sample - loss: 395.2492\n",
      "Epoch 7/50\n",
      "7654/7654 [==============================] - 0s 59us/sample - loss: 375.7705\n",
      "Epoch 8/50\n",
      "7654/7654 [==============================] - 0s 60us/sample - loss: 354.5444\n",
      "Epoch 9/50\n",
      "7654/7654 [==============================] - 0s 59us/sample - loss: 332.0455\n",
      "Epoch 10/50\n",
      "7654/7654 [==============================] - ETA: 0s - loss: 310.790 - 0s 61us/sample - loss: 309.9875\n",
      "Epoch 11/50\n",
      "7654/7654 [==============================] - 0s 59us/sample - loss: 286.3811\n",
      "Epoch 12/50\n",
      "7654/7654 [==============================] - 0s 59us/sample - loss: 262.7926\n",
      "Epoch 13/50\n",
      "7654/7654 [==============================] - 0s 60us/sample - loss: 239.6419\n",
      "Epoch 14/50\n",
      "7654/7654 [==============================] - 0s 60us/sample - loss: 217.5930\n",
      "Epoch 15/50\n",
      "7654/7654 [==============================] - 0s 60us/sample - loss: 195.5956\n",
      "Epoch 16/50\n",
      "7654/7654 [==============================] - 0s 60us/sample - loss: 176.3693\n",
      "Epoch 17/50\n",
      "7654/7654 [==============================] - 0s 58us/sample - loss: 157.0521\n",
      "Epoch 18/50\n",
      "7654/7654 [==============================] - 0s 61us/sample - loss: 140.0641\n",
      "Epoch 19/50\n",
      "7654/7654 [==============================] - 0s 60us/sample - loss: 124.7536\n",
      "Epoch 20/50\n",
      "7654/7654 [==============================] - 0s 60us/sample - loss: 110.1489\n",
      "Epoch 21/50\n",
      "7654/7654 [==============================] - 0s 61us/sample - loss: 97.7346\n",
      "Epoch 22/50\n",
      "7654/7654 [==============================] - 0s 59us/sample - loss: 86.2769\n",
      "Epoch 23/50\n",
      "7654/7654 [==============================] - 0s 62us/sample - loss: 76.5442\n",
      "Epoch 24/50\n",
      "7654/7654 [==============================] - 0s 59us/sample - loss: 68.1926\n",
      "Epoch 25/50\n",
      "7654/7654 [==============================] - 0s 59us/sample - loss: 60.9098\n",
      "Epoch 26/50\n",
      "7654/7654 [==============================] - 0s 63us/sample - loss: 54.3942\n",
      "Epoch 27/50\n",
      "7654/7654 [==============================] - 0s 59us/sample - loss: 50.0151\n",
      "Epoch 28/50\n",
      "7654/7654 [==============================] - 0s 60us/sample - loss: 45.1440\n",
      "Epoch 29/50\n",
      "7654/7654 [==============================] - 0s 61us/sample - loss: 42.1252\n",
      "Epoch 30/50\n",
      "7654/7654 [==============================] - 0s 60us/sample - loss: 39.2688\n",
      "Epoch 31/50\n",
      "7654/7654 [==============================] - 0s 59us/sample - loss: 37.3891\n",
      "Epoch 32/50\n",
      "7654/7654 [==============================] - 0s 59us/sample - loss: 36.2779\n",
      "Epoch 33/50\n",
      "7654/7654 [==============================] - 0s 59us/sample - loss: 34.8798\n",
      "Epoch 34/50\n",
      "7654/7654 [==============================] - 0s 61us/sample - loss: 34.2685\n",
      "Epoch 35/50\n",
      "7654/7654 [==============================] - 0s 58us/sample - loss: 33.6111\n",
      "Epoch 36/50\n",
      "7654/7654 [==============================] - 0s 57us/sample - loss: 32.0355\n",
      "Epoch 37/50\n",
      "7654/7654 [==============================] - 0s 61us/sample - loss: 31.6538\n",
      "Epoch 38/50\n",
      "7654/7654 [==============================] - 0s 58us/sample - loss: 31.1591\n",
      "Epoch 39/50\n",
      "7654/7654 [==============================] - 0s 60us/sample - loss: 30.4582\n",
      "Epoch 40/50\n",
      "7654/7654 [==============================] - 0s 60us/sample - loss: 30.2429\n",
      "Epoch 41/50\n",
      "7654/7654 [==============================] - 0s 61us/sample - loss: 29.4782\n",
      "Epoch 42/50\n",
      "7654/7654 [==============================] - 0s 60us/sample - loss: 29.7019\n",
      "Epoch 43/50\n",
      "7654/7654 [==============================] - 0s 62us/sample - loss: 28.9948\n",
      "Epoch 44/50\n",
      "7654/7654 [==============================] - 0s 59us/sample - loss: 29.4347\n",
      "Epoch 45/50\n",
      "7654/7654 [==============================] - 0s 60us/sample - loss: 28.3748\n",
      "Epoch 46/50\n",
      "7654/7654 [==============================] - 0s 60us/sample - loss: 28.6956\n",
      "Epoch 47/50\n",
      "7654/7654 [==============================] - 0s 60us/sample - loss: 28.0570\n",
      "Epoch 48/50\n",
      "7654/7654 [==============================] - 0s 62us/sample - loss: 28.1049\n",
      "Epoch 49/50\n",
      "7654/7654 [==============================] - 0s 61us/sample - loss: 27.5666\n",
      "Epoch 50/50\n",
      "7654/7654 [==============================] - 0s 59us/sample - loss: 27.8740\n"
     ]
    },
    {
     "data": {
      "text/plain": [
       "<tensorflow.python.keras.callbacks.History at 0x181cd279f88>"
      ]
     },
     "execution_count": 78,
     "metadata": {},
     "output_type": "execute_result"
    }
   ],
   "source": [
    "# Fitting Dataset\n",
    "ann.fit(X_train,y_train,batch_size = 32,epochs = 50)"
   ]
  },
  {
   "cell_type": "markdown",
   "metadata": {},
   "source": [
    "## Predicting Results"
   ]
  },
  {
   "cell_type": "code",
   "execution_count": 96,
   "metadata": {},
   "outputs": [],
   "source": [
    "y_pred = ann.predict(X_test)\n"
   ]
  },
  {
   "cell_type": "code",
   "execution_count": 97,
   "metadata": {},
   "outputs": [
    {
     "data": {
      "text/html": [
       "<div>\n",
       "<style scoped>\n",
       "    .dataframe tbody tr th:only-of-type {\n",
       "        vertical-align: middle;\n",
       "    }\n",
       "\n",
       "    .dataframe tbody tr th {\n",
       "        vertical-align: top;\n",
       "    }\n",
       "\n",
       "    .dataframe thead th {\n",
       "        text-align: right;\n",
       "    }\n",
       "</style>\n",
       "<table border=\"1\" class=\"dataframe\">\n",
       "  <thead>\n",
       "    <tr style=\"text-align: right;\">\n",
       "      <th></th>\n",
       "      <th>Predicted</th>\n",
       "      <th>Actual</th>\n",
       "    </tr>\n",
       "  </thead>\n",
       "  <tbody>\n",
       "    <tr>\n",
       "      <td>0</td>\n",
       "      <td>[[430.21555, 462.7429, 467.00687, 448.84253, 4...</td>\n",
       "      <td>[[431.23, 460.01, 461.14, 445.9, 451.29, 432.6...</td>\n",
       "    </tr>\n",
       "  </tbody>\n",
       "</table>\n",
       "</div>"
      ],
      "text/plain": [
       "                                           Predicted  \\\n",
       "0  [[430.21555, 462.7429, 467.00687, 448.84253, 4...   \n",
       "\n",
       "                                              Actual  \n",
       "0  [[431.23, 460.01, 461.14, 445.9, 451.29, 432.6...  "
      ]
     },
     "execution_count": 97,
     "metadata": {},
     "output_type": "execute_result"
    }
   ],
   "source": [
    "pd.DataFrame([[y_pred.reshape(1,len(y_pred)),y_test.reshape(1,len(y_pred))]],columns=['Predicted','Actual'])"
   ]
  },
  {
   "cell_type": "code",
   "execution_count": 114,
   "metadata": {},
   "outputs": [
    {
     "data": {
      "text/html": [
       "<div>\n",
       "<style scoped>\n",
       "    .dataframe tbody tr th:only-of-type {\n",
       "        vertical-align: middle;\n",
       "    }\n",
       "\n",
       "    .dataframe tbody tr th {\n",
       "        vertical-align: top;\n",
       "    }\n",
       "\n",
       "    .dataframe thead th {\n",
       "        text-align: right;\n",
       "    }\n",
       "</style>\n",
       "<table border=\"1\" class=\"dataframe\">\n",
       "  <thead>\n",
       "    <tr style=\"text-align: right;\">\n",
       "      <th></th>\n",
       "      <th>Actual</th>\n",
       "      <th>Predicted</th>\n",
       "    </tr>\n",
       "  </thead>\n",
       "  <tbody>\n",
       "    <tr>\n",
       "      <td>0</td>\n",
       "      <td>431.23</td>\n",
       "      <td>430.215546</td>\n",
       "    </tr>\n",
       "    <tr>\n",
       "      <td>1</td>\n",
       "      <td>460.01</td>\n",
       "      <td>462.742889</td>\n",
       "    </tr>\n",
       "    <tr>\n",
       "      <td>2</td>\n",
       "      <td>461.14</td>\n",
       "      <td>467.006866</td>\n",
       "    </tr>\n",
       "    <tr>\n",
       "      <td>3</td>\n",
       "      <td>445.90</td>\n",
       "      <td>448.842529</td>\n",
       "    </tr>\n",
       "    <tr>\n",
       "      <td>4</td>\n",
       "      <td>451.29</td>\n",
       "      <td>459.311249</td>\n",
       "    </tr>\n",
       "    <tr>\n",
       "      <td>...</td>\n",
       "      <td>...</td>\n",
       "      <td>...</td>\n",
       "    </tr>\n",
       "    <tr>\n",
       "      <td>1909</td>\n",
       "      <td>460.29</td>\n",
       "      <td>461.044556</td>\n",
       "    </tr>\n",
       "    <tr>\n",
       "      <td>1910</td>\n",
       "      <td>452.42</td>\n",
       "      <td>455.637390</td>\n",
       "    </tr>\n",
       "    <tr>\n",
       "      <td>1911</td>\n",
       "      <td>473.26</td>\n",
       "      <td>472.793396</td>\n",
       "    </tr>\n",
       "    <tr>\n",
       "      <td>1912</td>\n",
       "      <td>438.00</td>\n",
       "      <td>442.121521</td>\n",
       "    </tr>\n",
       "    <tr>\n",
       "      <td>1913</td>\n",
       "      <td>463.28</td>\n",
       "      <td>460.290894</td>\n",
       "    </tr>\n",
       "  </tbody>\n",
       "</table>\n",
       "<p>1914 rows × 2 columns</p>\n",
       "</div>"
      ],
      "text/plain": [
       "      Actual   Predicted\n",
       "0     431.23  430.215546\n",
       "1     460.01  462.742889\n",
       "2     461.14  467.006866\n",
       "3     445.90  448.842529\n",
       "4     451.29  459.311249\n",
       "...      ...         ...\n",
       "1909  460.29  461.044556\n",
       "1910  452.42  455.637390\n",
       "1911  473.26  472.793396\n",
       "1912  438.00  442.121521\n",
       "1913  463.28  460.290894\n",
       "\n",
       "[1914 rows x 2 columns]"
      ]
     },
     "execution_count": 114,
     "metadata": {},
     "output_type": "execute_result"
    }
   ],
   "source": [
    "pd.concat([pd.DataFrame([i for i in  y_test],columns = ['Actual']),pd.DataFrame([i for i in  y_pred],columns = ['Predicted'])],axis=1)"
   ]
  }
 ],
 "metadata": {
  "kernelspec": {
   "display_name": "Python 3",
   "language": "python",
   "name": "python3"
  },
  "language_info": {
   "codemirror_mode": {
    "name": "ipython",
    "version": 3
   },
   "file_extension": ".py",
   "mimetype": "text/x-python",
   "name": "python",
   "nbconvert_exporter": "python",
   "pygments_lexer": "ipython3",
   "version": "3.7.4"
  }
 },
 "nbformat": 4,
 "nbformat_minor": 2
}
